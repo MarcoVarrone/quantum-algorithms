{
 "cells": [
  {
   "cell_type": "markdown",
   "metadata": {},
   "source": [
    "# Grover's Algorithm"
   ]
  },
  {
   "cell_type": "markdown",
   "metadata": {},
   "source": [
    "Grover's algorithm is a quantum search algorithm to find one or multiple elements in a unordered database or set.<br>\n",
    "A classical search algorithm takes $O(N)$ to find the solution, where N is the number of elements in the set.<br>\n",
    "On the other hand, as it will be bettere explained later, Grover's algorithm is probabilistic: it will output the correct element with a given probability and this probability is maximum after $O(\\sqrt{N})$. In some cases the probability may not reach 100%, but it usually approches it quite closely.<br>\n",
    "The algorithm applies the Hadamard gate (this gate will be explained later on) to the qubits of the systems, then two other operators are iteratively applied (the Oracle and the Diffusion operators) until the solution as the maximum probability, after which it measures the value of the qubits.<br>\n",
    "<img src=\"img/operators.png\" width=\"600\">\n",
    "\n",
    "Now these operators will be explained to understand how the algorithm achieves its goal."
   ]
  },
  {
   "cell_type": "markdown",
   "metadata": {},
   "source": [
    "## Oracle\n",
    "The first important concept for this algorithm is the Oracle. It is an operator $O$ that is able to verify if an element is a solution, note that being able to realize this operator is not equivalent to being able to solve the problem. Take as an example the problem of factorization: verifying that two numbers are factors of another number is much easier than finding these two numbers. <br>\n",
    "What the oracle does it two flip the sign of the element if it is a solution:\n",
    "$$ |x\\rangle \\longrightarrow (-1)^{f(x)}|x\\rangle$$\n",
    "\n",
    "The Oracle obviously depend on the problem. For example if in a system with two qubits the solution is $|11\\rangle$ the Oracle may be an AND operator (actually in quantum computing the AND operator doesn't exists, but the Toffoli gate has the same behavior)."
   ]
  },
  {
   "cell_type": "markdown",
   "metadata": {},
   "source": [
    "## Grover Diffusion Operator\n",
    "The second concept is the Diffusion operator $D$. It is composed by other three operators: an Hadamard gate, followed by a conditional phase shift, followed by another Hadamard gate.<br>\n",
    "### Hadamard gate\n",
    "What the Hadamard gate $H$ does it to put a system in <b>superposition</b>, which means that every state in that system is equally probable. In a system with $n$ qubits there are $N=2^{n}$ possible states, so, for example, in a system with 2 qubits ($|0\\rangle, |1\\rangle$) there are 4 possible states ($|00\\rangle, |01\\rangle, |10\\rangle, |11\\rangle$).<br>\n",
    "After applying the Hadamard gate the system will be: \n",
    "$$ |\\phi\\rangle = \\frac{1}{\\sqrt(4)}|00\\rangle + \\frac{1}{\\sqrt(4)}|01\\rangle + \\frac{1}{\\sqrt(4)}|10\\rangle + \\frac{1}{\\sqrt(4)}|11\\rangle $$\n",
    "The coefficient of each basis state is called <b>amplitude</b> $\\alpha$, and $\\alpha^{2}$ is equal to the probability of that state. Hence, in the previous case, all the states have probability equal to $\\frac{1}{4}$.\n",
    "Note that all the operators in quantum computing are reversible: applying $H$ twice to $|0\\rangle$ will return $|0\\rangle$ and applying it twice to $|1\\rangle$ will return $|1\\rangle$.\n",
    "\n",
    "### Phase shift operator\n",
    "This operator shifts the phase of all the states, except for the state $|0\\rangle$, so it is:\n",
    "$$ |0\\rangle \\rightarrow |0\\rangle $$\n",
    "$$ |x\\rangle \\rightarrow -|x\\rangle$$\n",
    "\n",
    "### Diffusion\n",
    "The diffusion operator, which is the sequential application of $H$, Phase shift and $H$ performs an inversion of the amplitudes around the mean value. \n",
    "    $$ \\sum_{k} \\alpha_{k}|k\\rangle \\rightarrow \\sum_{k}{[}-\\alpha_{k} + 2 \\langle\\alpha\\rangle{]}|k\\rangle $$\n",
    "If it seems difficult to understand, the following two visualizations of the operators will help."
   ]
  },
  {
   "cell_type": "markdown",
   "metadata": {},
   "source": [
    "## Amplitude interpretation\n",
    "Let's plot the amplitude for each possible state of the system.<br>\n",
    "<img src=\"img/grover_1.png\" width=\"400\"/><br>\n",
    "After applying the Hadamard gate to the qubits the system is in superposition, so all the basis states have the same probability.<br>\n",
    "The application of the Oracle operator flips the sign of only one state (if we assume that the solution exists and it is only one).<br>\n",
    "<img src=\"img/grover_2.png\" width=\"400\" /><br>\n",
    "Then the Diffusion operator performs an inversion around the mean. This results in the amplitude of the solution to become positive again and being amplified. For the fact that all the probabilities have to sum up to 1, the amplitude of the other states (which are not solutions) decreases. <br>\n",
    "For example in this case the mean is $ m = \\frac{\\frac{1}{\\sqrt{4}}+\\frac{1}{\\sqrt{4}}-\\frac{1}{\\sqrt{4}}+\\frac{1}{\\sqrt{4}}}{4} = \\frac{1}{4}$, so the distance between the non-solution states and the mean value is $ \\Delta_{1} = \\frac{1}{\\sqrt{4}} - \\frac{1}{4} = \\frac{1}{2} - \\frac{1}{4}= \\frac{1}{4}$ while for the solution state and the mean value is $ \\Delta_{2} = \\frac{1}{4} - (-\\frac{1}{2}) = \\frac{3}{4}$.<br>\n",
    "By applying the inversion around the mean value, the new amplitude of the non-solutions states is $ m - \\Delta_{1} = 0$ and for the solution state is $ m + \\Delta_{2} = 1$.<br>\n",
    "<table><tr><td><img src=\"img/grover_3.png\" width=\"400\"/></td><td><img src=\"img/grover_4.png\" width=\"400\"/></td></table>\n",
    "Now we can start to understand how the algorithm works: by applying iteratively the $O$ and $D$ the amplitudes of the non-solutions decrease, while the one of the solution gets closer and closer to 1.<br>\n",
    "For this reason, when we will measure the qubits, there will be a high probability of obtaining the solution.\n",
    "In the case of 2 qubits, after one iteration, the probability of measuring the solution state is already 1, but in other cases the probability doesn't reach 1, but a close value. <br>\n",
    "    It can be proved that the number of iterations to be performed to obtain the maximum value for the solution amplitude is $\\approx \\frac{\\pi}{4}\\sqrt{N}$. Notice that a higher number of iterations will start to decrease the amplitude of the solution.\n"
   ]
  },
  {
   "cell_type": "markdown",
   "metadata": {},
   "source": [
    "## Geometric interpretation\n",
    "Another possible way to visualize the process is by dividing the non-solution states from the solution states.\n",
    "$$ |\\phi\\rangle = \\left(\\frac{1}{\\sqrt(4)}|00\\rangle + \\frac{1}{\\sqrt(4)}|01\\rangle + \\frac{1}{\\sqrt(4)}|11\\rangle \\right) + \\left(\\frac{1}{\\sqrt(4)}|10\\rangle\\right) $$\n",
    "The term will be called $|\\alpha\\rangle$, while the second will be $|\\beta\\rangle$, so\n",
    "$$ |\\phi\\rangle = |\\alpha\\rangle + |\\beta\\rangle$$\n",
    "We can represent these two terms in a two-dimensional space.<br>\n",
    "<img src=\"img/geometric.png\" width=\"300\"><br>\n",
    "What the Oracle operator does is to flip the phase only of the solution ($|\\beta\\rangle$), so, as we can see from the image, it is reflected around the $|\\alpha\\rangle$ axis.<br>\n",
    "Then the Diffusion operator reflects the new vector around the original $\\phi\\rangle$ one.<br>\n",
    "The result of the two reflections is actually a rotation! This rotation moves $|\\phi\\rangle$ closer and closer to the $|\\beta\\rangle$ axis. So, as we have seen in the amplitude interpretation, the probability of $|\\beta\\rangle$ increases at each iteration. "
   ]
  }
 ],
 "metadata": {
  "kernelspec": {
   "display_name": "Python 3",
   "language": "python",
   "name": "python3"
  },
  "language_info": {
   "codemirror_mode": {
    "name": "ipython",
    "version": 3
   },
   "file_extension": ".py",
   "mimetype": "text/x-python",
   "name": "python",
   "nbconvert_exporter": "python",
   "pygments_lexer": "ipython3",
   "version": "3.6.8"
  }
 },
 "nbformat": 4,
 "nbformat_minor": 2
}
