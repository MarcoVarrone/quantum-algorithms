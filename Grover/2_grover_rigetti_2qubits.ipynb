{
 "cells": [
  {
   "cell_type": "markdown",
   "metadata": {},
   "source": [
    "# Grover's algorithm implementation in Rigetti Forest with 2 qubits"
   ]
  },
  {
   "cell_type": "markdown",
   "metadata": {},
   "source": [
    "## Installation\n",
    "To execute quantum simulations using Rigetti Forest SDK it is first required to install the pyQuil library, the Quantum Virtual Machine and the Compiler following the instructions at this link http://docs.rigetti.com/en/stable/start.html.<br>\n",
    "The procedure is easy and all the components are lightweight.<br>\n",
    "After the installation, start the QVM and the Compiler as described in the \"Setting Up Server Mode for PyQuil\" section.<br>\n",
    "Now we can start working on the Grover's algorithm implementation!<br>\n",
    "Let's try to implement the version for only two qubits and we want to find the element |11><br>\n",
    "The Quantum Circuit is the following:<br>\n",
    "<img src=\"img/gates_11.png\" width=\"800\"/><br>"
   ]
  },
  {
   "cell_type": "markdown",
   "metadata": {},
   "source": [
    "## Setup, wavefunction and superposition"
   ]
  },
  {
   "cell_type": "markdown",
   "metadata": {},
   "source": [
    "First we import the required libraries, setup the virtual machine as a lattice of 9 qubits in total and instantiate the empty program. <br>\n",
    "Usually the qubits in a real Rigetti quantum computer are placed in a lattice, but it is possible to specify different architectures in the virtual machine (e.g. <i>5q-qvm</i> is a fully connected network of qubits), but if the program is later supposed to be executed on a real quantum computer, the code will have to be changed.<br>\n",
    "Is is possible to obtain a list of quantum computers names through the <a href=\"http://docs.rigetti.com/en/stable/apidocs/quantum_computer.html#pyquil.list_quantum_computers\">list_quantum_computers()</a> function."
   ]
  },
  {
   "cell_type": "code",
   "execution_count": 1,
   "metadata": {},
   "outputs": [],
   "source": [
    "from pyquil import Program, get_qc\n",
    "from pyquil.gates import *\n",
    "qvm = get_qc('9q-square-qvm')\n",
    "n_qubits = 2\n",
    "qubits = list(range(n_qubits))\n",
    "p = Program()"
   ]
  },
  {
   "cell_type": "markdown",
   "metadata": {},
   "source": [
    "The Forest SDK has an interesting feature which is the Wavefunction Similator: it is possible to inspect the wavefunction of a quantum state prepared by the program.<br>\n",
    "This feature it is obviously possible only in the Virtual Machine because in real quantum computers the wavefunction is unknown.<br>\n",
    "The wavefunction corresponding to the current program is the following."
   ]
  },
  {
   "cell_type": "code",
   "execution_count": 2,
   "metadata": {},
   "outputs": [
    {
     "name": "stdout",
     "output_type": "stream",
     "text": [
      "(1+0j)|0>\n"
     ]
    }
   ],
   "source": [
    "from pyquil.api import WavefunctionSimulator\n",
    "wfs = WavefunctionSimulator()\n",
    "print(wfs.wavefunction(p))"
   ]
  },
  {
   "cell_type": "markdown",
   "metadata": {},
   "source": [
    "The wave function is corresponding to the state 0 with a probability of $1^{2}=1$ because the qubits are all set to zero.<br>\n",
    "Let's now apply some operators of the Grover's algorithm.<br><br>\n",
    "The gates of the first slot are the Hadamard gates used to put the two qubits into superposition.<br>"
   ]
  },
  {
   "cell_type": "code",
   "execution_count": 3,
   "metadata": {},
   "outputs": [],
   "source": [
    "def superposition(p, qubits):\n",
    "    for qubit in qubits:\n",
    "        p += H(qubit)"
   ]
  },
  {
   "cell_type": "markdown",
   "metadata": {},
   "source": [
    "Let's apply the superposition gates and print the program to see if the gates have ben added to the circuit."
   ]
  },
  {
   "cell_type": "code",
   "execution_count": 4,
   "metadata": {},
   "outputs": [
    {
     "name": "stdout",
     "output_type": "stream",
     "text": [
      "H 0\n",
      "H 1\n",
      "\n"
     ]
    }
   ],
   "source": [
    "superposition(p, qubits)\n",
    "print(p)"
   ]
  },
  {
   "cell_type": "markdown",
   "metadata": {},
   "source": [
    "If we inspect the wavefunction now we see that all the four possible states (|00>, |01>, |10>, |11>) are equally probable because they are in superposition, with a probability of $0.5^{2} = 0.25$ each."
   ]
  },
  {
   "cell_type": "code",
   "execution_count": 5,
   "metadata": {},
   "outputs": [
    {
     "name": "stdout",
     "output_type": "stream",
     "text": [
      "(0.5+0j)|00> + (0.5+0j)|01> + (0.5+0j)|10> + (0.5+0j)|11>\n"
     ]
    }
   ],
   "source": [
    "print(wfs.wavefunction(p))"
   ]
  },
  {
   "cell_type": "markdown",
   "metadata": {},
   "source": [
    "## Oracle and controlled gates\n",
    "\n",
    "There are two techniques to design the oracle operator, as described in <a href=\"https://arxiv.org/pdf/1703.10535.pdf\">Complete 3-Qubit Grover Search on a Programmable Quantum Computer</a>: the boolean oracle and the phase oracle.<br>\n",
    "The former is the most straightforward, because it is based on the same principles of the boolean algebra, but it needs a qubit (called ancilla qubit) more with respect to the latter.<br>"
   ]
  },
  {
   "cell_type": "markdown",
   "metadata": {},
   "source": [
    "But before describing the design of the oracle a simple concept has to be introduced: the controlled gates.<br>\n",
    "Controlled gates act on 2 or more qubits, where one or more qubits act as a control for some operation. For example, the controlled NOT gate (or CNOT or cX) acts on 2 qubits, and performs the NOT operation on the second qubit only when the first qubit is |1>, and otherwise leaves it unchanged.<br>\n",
    "More generally if <i>U</i> is a gate that operates on single qubits with matrix representation\n",
    "\n",
    "$$ U=\n",
    "\\begin{bmatrix}\n",
    "u_{00}&u_{01}\\\\\n",
    "u_{10}&u_{11}\n",
    "\\end{bmatrix} \n",
    "$$\n",
    "The matrix representing the controlled U is\n",
    "\n",
    "$$ C(U)=\n",
    "\\begin{bmatrix}\n",
    "1&0&0&0\\\\\n",
    "0&1&0&0\\\\\n",
    "0&0&u_{00}&u_{01}\\\\\n",
    "0&0&u_{10}&u_{11}\n",
    "\\end{bmatrix}\n",
    "$$\n",
    "\n",
    "Hence, the matrix representation of the CNOT gate is:\n",
    "$$ CNOT=\n",
    "\\begin{bmatrix}\n",
    "1&0&0&0\\\\\n",
    "0&1&0&0\\\\\n",
    "0&0&0&1\\\\\n",
    "0&0&1&0\n",
    "\\end{bmatrix}\n",
    "$$\n",
    "The controlled modifier can have multiple qubits as control qubits (e.g. the CCNOT has two control qubits and one target)."
   ]
  },
  {
   "cell_type": "markdown",
   "metadata": {},
   "source": [
    "We can now define the oracle for the element |11> we are searching for and add it to the program.<br>"
   ]
  },
  {
   "cell_type": "code",
   "execution_count": 6,
   "metadata": {},
   "outputs": [],
   "source": [
    "def oracle(p, qubits):\n",
    "    p += H(1)\n",
    "    p += CNOT(0,1)\n",
    "    p += H(1)\n",
    "\n",
    "oracle(p, qubits)"
   ]
  },
  {
   "cell_type": "code",
   "execution_count": 7,
   "metadata": {},
   "outputs": [
    {
     "name": "stdout",
     "output_type": "stream",
     "text": [
      "(0.5+0j)|00> + (0.5+0j)|01> + (0.5+0j)|10> + (-0.5+0j)|11>\n"
     ]
    }
   ],
   "source": [
    "print(wfs.wavefunction(p))"
   ]
  },
  {
   "cell_type": "markdown",
   "metadata": {},
   "source": [
    "The wavefunction is now similar to the previous, the only effect is the flip of the state |11>, that has now a negative amplitude.<br>\n",
    "It corresponds to the effect that the oracle is to supposed to have: flip the sign only of the solution state.<br>\n",
    "Let's apply the diffusion operator."
   ]
  },
  {
   "cell_type": "code",
   "execution_count": 8,
   "metadata": {},
   "outputs": [
    {
     "name": "stdout",
     "output_type": "stream",
     "text": [
      "(-1+0j)|11>\n"
     ]
    }
   ],
   "source": [
    "def phase_shift(p, qubits):\n",
    "    for qubit in qubits:\n",
    "        p += X(qubit)\n",
    "    p += H(1)\n",
    "    p += CNOT(0, 1)\n",
    "    p += H(1)\n",
    "    for qubit in qubits:\n",
    "        p += X(qubit)\n",
    "\n",
    "# Apply diffusion operator\n",
    "superposition(p, qubits)\n",
    "phase_shift(p, qubits)\n",
    "superposition(p, qubits)\n",
    "\n",
    "print(wfs.wavefunction(p))"
   ]
  },
  {
   "cell_type": "markdown",
   "metadata": {},
   "source": [
    "For the concepts explained in the previous notebook on the theory behind the Grover's algorithm, after only one iteration the probability of collapsing into the state |11> is already one, as shown by the wavefunction.<br>\n",
    "The only things left to do now are to compile, run and measure the program."
   ]
  },
  {
   "cell_type": "code",
   "execution_count": 9,
   "metadata": {},
   "outputs": [
    {
     "name": "stdout",
     "output_type": "stream",
     "text": [
      "H 0\n",
      "H 1\n",
      "H 1\n",
      "CNOT 0 1\n",
      "H 1\n",
      "H 0\n",
      "H 1\n",
      "X 0\n",
      "X 1\n",
      "H 1\n",
      "CNOT 0 1\n",
      "H 1\n",
      "X 0\n",
      "X 1\n",
      "H 0\n",
      "H 1\n",
      "DECLARE ro BIT[2]\n",
      "MEASURE 0 ro[0]\n",
      "MEASURE 1 ro[1]\n",
      "\n"
     ]
    }
   ],
   "source": [
    "#Add the measure operators\n",
    "p = p.measure_all()\n",
    "    \n",
    "print(p)"
   ]
  },
  {
   "cell_type": "code",
   "execution_count": 10,
   "metadata": {
    "scrolled": true
   },
   "outputs": [
    {
     "name": "stdout",
     "output_type": "stream",
     "text": [
      "[[1 1]\n",
      " [1 1]\n",
      " [1 1]\n",
      " [1 1]\n",
      " [1 1]\n",
      " [1 1]\n",
      " [1 1]\n",
      " [1 1]\n",
      " [1 1]\n",
      " [1 1]]\n"
     ]
    }
   ],
   "source": [
    "#Execute the algorithm 10 times\n",
    "p.wrap_in_numshots_loop(10)\n",
    "\n",
    "#Compile and run\n",
    "grover = qvm.compile(p)\n",
    "result = qvm.run(grover)\n",
    "print(result)"
   ]
  },
  {
   "cell_type": "markdown",
   "metadata": {},
   "source": [
    "As expected, all the ten program runs return |11> as a result because the probability of returning the solution is 1 in the case of two qubits circuit.<br><br>\n",
    "\n",
    "## Controlled Z implementation\n",
    "Notice that the oracle can also be implemented with the Controlled Z gate.<br>\n",
    "\n",
    "\n",
    "Hence, the CZ gate has matrix representation\n",
    "$$ CZ=\n",
    "\\begin{bmatrix}\n",
    "1&0&0&0\\\\\n",
    "0&1&0&0\\\\\n",
    "0&0&1&0\\\\\n",
    "0&0&0&-1\n",
    "\\end{bmatrix}\n",
    "$$"
   ]
  },
  {
   "cell_type": "code",
   "execution_count": 11,
   "metadata": {},
   "outputs": [
    {
     "name": "stdout",
     "output_type": "stream",
     "text": [
      "H 0\n",
      "H 1\n",
      "CZ 0 1\n",
      "H 0\n",
      "H 1\n",
      "X 0\n",
      "X 1\n",
      "CZ 0 1\n",
      "X 0\n",
      "X 1\n",
      "H 0\n",
      "H 1\n",
      "DECLARE ro BIT[2]\n",
      "MEASURE 0 ro[0]\n",
      "MEASURE 1 ro[1]\n",
      "\n",
      "[[1 1]\n",
      " [1 1]\n",
      " [1 1]\n",
      " [1 1]\n",
      " [1 1]\n",
      " [1 1]\n",
      " [1 1]\n",
      " [1 1]\n",
      " [1 1]\n",
      " [1 1]]\n"
     ]
    }
   ],
   "source": [
    "def oracleZ(p, qubits):\n",
    "    p += CZ(0,1)\n",
    "    \n",
    "def phase_shiftZ(p, qubits):\n",
    "    for qubit in qubits:\n",
    "        p += X(qubit)\n",
    "    p += CZ(0,1)\n",
    "    for qubit in qubits:\n",
    "        p += X(qubit)\n",
    "\n",
    "pZ = Program()\n",
    "superposition(pZ, qubits)\n",
    "\n",
    "oracleZ(pZ, qubits)\n",
    "\n",
    "superposition(pZ, qubits)\n",
    "phase_shiftZ(pZ, qubits)\n",
    "superposition(pZ, qubits)\n",
    "\n",
    "pZ = pZ.measure_all()\n",
    "print(pZ)\n",
    "\n",
    "pZ.wrap_in_numshots_loop(10)\n",
    "\n",
    "grover = qvm.compile(pZ)\n",
    "result = qvm.run(grover)\n",
    "print(result)"
   ]
  },
  {
   "cell_type": "markdown",
   "metadata": {},
   "source": [
    "The example presented is a trivial case but it useful to start to understand how quantum computing works and to familiarize with the Rigetti Forest SDK.<br>\n",
    "In the following notebooks more complex examples will be presented."
   ]
  }
 ],
 "metadata": {
  "kernelspec": {
   "display_name": "Python 3",
   "language": "python",
   "name": "python3"
  },
  "language_info": {
   "codemirror_mode": {
    "name": "ipython",
    "version": 3
   },
   "file_extension": ".py",
   "mimetype": "text/x-python",
   "name": "python",
   "nbconvert_exporter": "python",
   "pygments_lexer": "ipython3",
   "version": "3.6.8"
  }
 },
 "nbformat": 4,
 "nbformat_minor": 2
}
